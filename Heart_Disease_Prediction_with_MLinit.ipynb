{
 "cells": [
  {
   "cell_type": "markdown",
   "id": "f4c041c0-c383-4b54-908e-758acef93684",
   "metadata": {},
   "source": [
    "## 1. Import Libraries"
   ]
  },
  {
   "cell_type": "code",
   "execution_count": null,
   "id": "caf4b108-55a9-4774-9920-f0bd26b3c48e",
   "metadata": {},
   "outputs": [],
   "source": [
    "import pandas as pd\n",
    "import numpy as np\n",
    "import matplotlib.pyplot as plt\n",
    "import seaborn as sns\n",
    "from sklearn.model_selection import train_test_split\n",
    "from sklearn.preprocessing import StandardScaler\n",
    "from sklearn.linear_model import LogisticRegression\n",
    "from sklearn.ensemble import RandomForestClassifier, GradientBoostingClassifier\n",
    "from sklearn.tree import DecisionTreeClassifier\n",
    "from sklearn.svm import SVC\n",
    "from sklearn.naive_bayes import GaussianNB\n",
    "from sklearn.neighbors import KNeighborsClassifier\n",
    "from sklearn.metrics import classification_report, confusion_matrix, accuracy_score, roc_auc_score, roc_curve\n"
   ]
  },
  {
   "cell_type": "markdown",
   "id": "f011626c-f6ac-490a-ae07-33768dcd1e4e",
   "metadata": {},
   "source": [
    "## 2. Load Dataset"
   ]
  },
  {
   "cell_type": "code",
   "execution_count": null,
   "id": "a64e7bfe-c6a5-4209-9cf6-1974e281db70",
   "metadata": {},
   "outputs": [],
   "source": [
    "df = pd.read_csv(\"heart.csv\")  # Replace with your actual path"
   ]
  },
  {
   "cell_type": "markdown",
   "id": "4809c404-ff71-4673-abc3-018f38073f43",
   "metadata": {},
   "source": [
    "## 3. EDA and Visualization"
   ]
  },
  {
   "cell_type": "code",
   "execution_count": null,
   "id": "f75d663e-776d-4301-8621-54430c26af75",
   "metadata": {},
   "outputs": [],
   "source": [
    "print(df.head())"
   ]
  },
  {
   "cell_type": "code",
   "execution_count": null,
   "id": "22d8b306-94d2-4a31-bdca-e708609e9100",
   "metadata": {},
   "outputs": [],
   "source": [
    "print(df.tail())"
   ]
  },
  {
   "cell_type": "code",
   "execution_count": null,
   "id": "7ceefc26-425b-43dc-b190-c1fa4d91e674",
   "metadata": {},
   "outputs": [],
   "source": [
    "print(df.info())"
   ]
  },
  {
   "cell_type": "code",
   "execution_count": null,
   "id": "c554a3b8-ab2b-4261-9e4e-d4f2b413c886",
   "metadata": {},
   "outputs": [],
   "source": [
    "print(df.describe())"
   ]
  },
  {
   "cell_type": "code",
   "execution_count": null,
   "id": "cb0f8d2e-abd7-435a-9a28-159250719452",
   "metadata": {},
   "outputs": [],
   "source": [
    "# checking unique categories\n",
    "mappings = {\n",
    "    \"sex\": {0: \"female\", 1: \"male\"},\n",
    "    \"cp\": {0: \"typical angina\", 1: \"atypical angina\", 2: \"non-anginal pain\", 3: \"asymptomatic\"},\n",
    "    \"fbs\": {0: \"fbs <= 120 mg/dl\", 1: \"fbs > 120 mg/dl\"},\n",
    "    \"exang\": {0: \"no\", 1: \"yes\"},\n",
    "    \"restecg\": {0: \"normal\", 1: \"ST-T wave abnormality\", 2: \"left ventricular hypertrophy\"}\n",
    "}\n",
    "\n",
    "category_columns = list(mappings.keys())\n",
    "\n",
    "for col in category_columns:\n",
    "    unique_codes = df[col].unique()\n",
    "    labels = [mappings[col][code] for code in unique_codes]\n",
    "    print(f\"Unique categories in '{col}':\")\n",
    "    for code, label in zip(unique_codes, labels):\n",
    "        print(f\"  {code}: {label}\")\n",
    "    print()"
   ]
  },
  {
   "cell_type": "code",
   "execution_count": null,
   "id": "9f2b554e-bc49-4831-9f0b-bd7316cc6bac",
   "metadata": {},
   "outputs": [],
   "source": [
    "# Check for missing values\n",
    "print(df.isnull().sum())"
   ]
  },
  {
   "cell_type": "code",
   "execution_count": null,
   "id": "1d3b2ff9-28ed-4af4-b288-8197586d6ecc",
   "metadata": {},
   "outputs": [],
   "source": [
    "# checking the target distribution\n",
    "df.target.value_counts()\n",
    "# or df[\"target\"].value_counts()\n",
    "# % df[\"target\"].value_counts(normalize = True)*100"
   ]
  },
  {
   "cell_type": "code",
   "execution_count": null,
   "id": "038941b4-2dda-49dc-b8c7-7961808455ac",
   "metadata": {},
   "outputs": [],
   "source": [
    "# Distribution of Target Variable\n",
    "custom_palette = ['#1f77b4', '#ff7f0e']  # blue and orange\n",
    "ax = sns.countplot(x='target', data=df, palette=custom_palette)\n",
    "plt.xlabel(\"Target\")\n",
    "plt.ylabel(\"Count\")\n",
    "plt.title(\"Heart Disease Class Distribution\")\n",
    "# Add custom legend\n",
    "labels = ['No Disease', 'Heart Disease']\n",
    "handles = [plt.Rectangle((0, 0), 1, 1, color=patch.get_facecolor()) for patch in ax.patches[:2]]\n",
    "plt.legend(handles, labels, title=\"Condition\")\n",
    "plt.show()"
   ]
  },
  {
   "cell_type": "code",
   "execution_count": null,
   "id": "f3e0ebf1-9457-40f3-a110-c23f01f63734",
   "metadata": {},
   "outputs": [],
   "source": [
    "# Correlation Matrix\n",
    "plt.figure(figsize=(12, 10))\n",
    "sns.heatmap(df.corr(), annot=True, fmt=\".2f\", cmap='coolwarm')\n",
    "plt.title(\"Correlation Matrix\")\n",
    "plt.show()"
   ]
  },
  {
   "cell_type": "code",
   "execution_count": null,
   "id": "edfe2442-8a1b-4ddf-91cf-39f7c5e85f9b",
   "metadata": {},
   "outputs": [],
   "source": [
    "# List of numerical features (excluding 'target')\n",
    "features = df.drop(columns=['target']).select_dtypes(include=['int64', 'float64']).columns\n",
    "\n",
    "# Plot\n",
    "plt.figure(figsize=(16, 12))\n",
    "for i, feature in enumerate(features):\n",
    "    plt.subplot((len(features) + 2) // 3, 3, i + 1)\n",
    "    sns.histplot(data=df, x=feature, hue='target', kde=True, element='step', stat='density', common_norm=False)\n",
    "    plt.title(f'{feature} Distribution by Target')\n",
    "    plt.xlabel(feature)\n",
    "    plt.ylabel('Density')\n",
    "\n",
    "plt.tight_layout()\n",
    "plt.show()\n"
   ]
  },
  {
   "cell_type": "markdown",
   "id": "fdba57b6-778d-4312-b471-3ed2ae9482fc",
   "metadata": {},
   "source": [
    "## 4. Data Preprocessing"
   ]
  },
  {
   "cell_type": "code",
   "execution_count": null,
   "id": "872ef90d-8bb6-4fc8-9547-3b84de186171",
   "metadata": {},
   "outputs": [],
   "source": [
    "X = df.drop('target', axis=1)\n",
    "y = df['target']\n",
    "print(\"Shape of X (features):\", X.shape)\n",
    "print(\"Shape of y (target):\", y.shape)"
   ]
  },
  {
   "cell_type": "markdown",
   "id": "c507a70c-2a6c-403e-8792-cbdbb6068342",
   "metadata": {},
   "source": [
    "## 5. Train-Test Split"
   ]
  },
  {
   "cell_type": "code",
   "execution_count": null,
   "id": "a068ab78-8e0a-456e-83a9-4d75d597f26c",
   "metadata": {
    "scrolled": true
   },
   "outputs": [],
   "source": [
    "X_train, X_test, y_train, y_test = train_test_split(X, y, test_size=0.2, random_state=42)\n",
    "print(\"Shape of X_train:\", X_train.shape)\n",
    "print(\"Shape of X_test:\", X_test.shape)\n",
    "print(\"Shape of y_train:\", y_train.shape)\n",
    "print(\"Shape of y_test:\", y_test.shape)"
   ]
  },
  {
   "cell_type": "code",
   "execution_count": null,
   "id": "949255bb-3380-4cb4-813d-96077cabf3b3",
   "metadata": {},
   "outputs": [],
   "source": [
    "# Feature scaling\n",
    "scaler = StandardScaler()\n",
    "X_train = scaler.fit_transform(X_train)\n",
    "X_test = scaler.transform(X_test)\n",
    "print(\"Shape of X_train:\", X_train.shape)\n",
    "print(\"Shape of X_test:\", X_test.shape)\n",
    "print(\"Shape of y_train:\", y_train.shape)\n",
    "print(\"Shape of y_test:\", y_test.shape)"
   ]
  },
  {
   "cell_type": "markdown",
   "id": "109dc356-0e57-4550-9717-bdfa741a58fe",
   "metadata": {},
   "source": [
    "## 6. Baseline Model (Majority Class Predictor)"
   ]
  },
  {
   "cell_type": "code",
   "execution_count": null,
   "id": "067b1a92-a1d0-4ba0-88da-086db2a5d660",
   "metadata": {},
   "outputs": [],
   "source": [
    "from sklearn.dummy import DummyClassifier\n",
    "# Most Frequent\n",
    "baseline_mf = DummyClassifier(strategy=\"most_frequent\")\n",
    "baseline_mf.fit(X_train, y_train)\n",
    "y_pred_mf = baseline_mf.predict(X_test)\n",
    "acc_mf = accuracy_score(y_test, y_pred_mf)\n",
    "print(\"Baseline Model - Most Frequent\")\n",
    "print(\"Accuracy:\", acc_mf)\n",
    "print(\"Classification Report:\\n\", classification_report(y_test, y_pred_mf))"
   ]
  },
  {
   "cell_type": "code",
   "execution_count": null,
   "id": "82842133-2a6c-4946-b141-3f55773cddbe",
   "metadata": {},
   "outputs": [],
   "source": [
    "# Stratified\n",
    "baseline_strat = DummyClassifier(strategy=\"stratified\", random_state=42)\n",
    "baseline_strat.fit(X_train, y_train)\n",
    "y_pred_strat = baseline_strat.predict(X_test)\n",
    "acc_strat = accuracy_score(y_test, y_pred_strat)\n",
    "print(\"Baseline Model - Stratified\")\n",
    "print(\"Accuracy:\", acc_strat)\n",
    "print(\"Classification Report:\\n\", classification_report(y_test, y_pred_strat))"
   ]
  },
  {
   "cell_type": "code",
   "execution_count": null,
   "id": "1d789086-e7fa-4e82-943e-c9b7dd01bc8c",
   "metadata": {},
   "outputs": [],
   "source": [
    "# Uniform\n",
    "baseline_uniform = DummyClassifier(strategy=\"uniform\", random_state=42)\n",
    "baseline_uniform.fit(X_train, y_train)\n",
    "y_pred_uniform = baseline_uniform.predict(X_test)\n",
    "acc_uniform = accuracy_score(y_test, y_pred_uniform)\n",
    "print(\"Baseline Model - Uniform\")\n",
    "print(\"Accuracy:\", acc_uniform)\n",
    "print(\"Classification Report:\\n\", classification_report(y_test, y_pred_uniform))"
   ]
  },
  {
   "cell_type": "markdown",
   "id": "c2ff1914-c3e7-4698-a281-1a3c7df29805",
   "metadata": {},
   "source": [
    "## 7. Build and Train Multiple Models"
   ]
  },
  {
   "cell_type": "code",
   "execution_count": null,
   "id": "12c8f814-b5e2-4eec-901e-1a5c7dd1c1d6",
   "metadata": {},
   "outputs": [],
   "source": [
    "models = {\n",
    "    \"Logistic Regression\": LogisticRegression(),\n",
    "    \"Random Forest\": RandomForestClassifier(),\n",
    "    \"Decision Tree\": DecisionTreeClassifier(),\n",
    "    \"K-Nearest Neighbors\": KNeighborsClassifier(),\n",
    "    \"Support Vector Machine\": SVC(probability=True),\n",
    "    \"Naive Bayes\": GaussianNB(),\n",
    "    \"Gradient Boosting\": GradientBoostingClassifier()\n",
    "}\n",
    "\n",
    "results = []\n",
    "\n",
    "for name, model in models.items():\n",
    "    model.fit(X_train, y_train)\n",
    "    y_pred = model.predict(X_test)\n",
    "    y_proba = model.predict_proba(X_test)[:, 1]\n",
    "    acc = accuracy_score(y_test, y_pred)\n",
    "    auc = roc_auc_score(y_test, y_proba)\n",
    "    print(f\"\\n{name}\")\n",
    "    print(\"Confusion Matrix:\\n\", confusion_matrix(y_test, y_pred))\n",
    "    print(\"Classification Report:\\n\", classification_report(y_test, y_pred))\n",
    "    print(\"Accuracy:\", acc)\n",
    "    print(\"ROC AUC Score:\", auc)\n",
    "    results.append((name, acc, auc))\n",
    "\n",
    "# Add baselines to results\n",
    "results.insert(0, (\"Baseline (Uniform)\", acc_uniform, None))\n",
    "results.insert(0, (\"Baseline (Stratified)\", acc_strat, None))\n",
    "results.insert(0, (\"Baseline (Most Frequent)\", acc_mf, None))"
   ]
  },
  {
   "cell_type": "markdown",
   "id": "37de43df-4308-4038-8260-2c803fe11107",
   "metadata": {},
   "source": [
    "## 8. Model Comparison Table"
   ]
  },
  {
   "cell_type": "code",
   "execution_count": null,
   "id": "46ff91a3-07e5-4c3b-9574-181622b3b355",
   "metadata": {},
   "outputs": [],
   "source": [
    "results_df = pd.DataFrame(results, columns=[\"Model\", \"Accuracy\", \"ROC AUC\"])\n",
    "print(\"\\nModel Comparison:\")\n",
    "print(results_df.sort_values(by=\"ROC AUC\", ascending=False))"
   ]
  },
  {
   "cell_type": "code",
   "execution_count": null,
   "id": "c32af3b7-787b-4c78-b90a-c7562282bac6",
   "metadata": {},
   "outputs": [],
   "source": [
    "# ROC Curve for All Models\n",
    "plt.figure(figsize=(10, 8))\n",
    "for name, model in models.items():\n",
    "    try:\n",
    "        y_proba = model.predict_proba(X_test)[:, 1]\n",
    "        fpr, tpr, _ = roc_curve(y_test, y_proba)\n",
    "        auc_score = roc_auc_score(y_test, y_proba)\n",
    "        plt.plot(fpr, tpr, label=f\"{name} (AUC = {auc_score:.2f})\")\n",
    "    except AttributeError:\n",
    "        print(f\"Skipping ROC curve for {name}: no predict_proba method.\")\n",
    "\n",
    "plt.plot([0, 1], [0, 1], linestyle='--', color='gray')\n",
    "plt.xlabel(\"False Positive Rate\")\n",
    "plt.ylabel(\"True Positive Rate\")\n",
    "plt.title(\"ROC Curves of All Models\")\n",
    "plt.legend()\n",
    "plt.show()"
   ]
  },
  {
   "cell_type": "markdown",
   "id": "312c0724-04a6-43f8-832d-8d4f7fe6ce40",
   "metadata": {},
   "source": [
    "## 9. Feature Importance (Random Forest Example)"
   ]
  },
  {
   "cell_type": "code",
   "execution_count": null,
   "id": "de822728-3cc2-48c0-9c9b-b54e70bea0b5",
   "metadata": {},
   "outputs": [],
   "source": [
    "rf_model = models[\"Random Forest\"]\n",
    "importances = rf_model.feature_importances_\n",
    "features = df.drop('target', axis=1).columns\n",
    "plt.figure(figsize=(10, 6))\n",
    "sns.barplot(x=importances, y=features)\n",
    "plt.title(\"Feature Importance (Random Forest)\")\n",
    "plt.show()"
   ]
  },
  {
   "cell_type": "markdown",
   "id": "c6f33c2c-3159-45ef-9fc0-5535a07cbfc5",
   "metadata": {},
   "source": [
    "## 10. Cross-Validation"
   ]
  },
  {
   "cell_type": "code",
   "execution_count": null,
   "id": "92b683f6-4b6e-4426-9ee1-f244f2b91609",
   "metadata": {},
   "outputs": [],
   "source": [
    "from sklearn.model_selection import cross_val_score, StratifiedKFold\n",
    "cv = StratifiedKFold(n_splits=5, shuffle=True, random_state=42)\n",
    "print(\"Cross-Validation Results:\")\n",
    "for name, model in models.items():\n",
    "    scores = cross_val_score(model, X_train, y_train, cv=cv, scoring='accuracy')\n",
    "    print(f\"{name}: {scores.mean():.4f} ± {scores.std():.4f}\")"
   ]
  },
  {
   "cell_type": "code",
   "execution_count": null,
   "id": "707255b4-d469-481b-bbe0-0eabd1fb2f73",
   "metadata": {},
   "outputs": [],
   "source": [
    "# Display the cross validation result in a tabular format\n",
    "results = []\n",
    "for name, model in models.items():\n",
    "    scores = cross_val_score(model, X_train, y_train, cv=cv, scoring='accuracy')\n",
    "    results.append({\n",
    "        'Model': name,\n",
    "        'Mean Accuracy': scores.mean(),\n",
    "        'Std Dev': scores.std()\n",
    "    })\n",
    "\n",
    "# Create a DataFrame for display\n",
    "results_df = pd.DataFrame(results).sort_values(by='Mean Accuracy', ascending= False)\n",
    "\n",
    "# Format and display\n",
    "results_df = results_df.round(4)\n",
    "print(\"Cross-Validation Results:\")\n",
    "display(results_df)\n"
   ]
  },
  {
   "cell_type": "markdown",
   "id": "89e18405-c22e-407a-a182-b9c9d5f22e74",
   "metadata": {},
   "source": [
    "## 11. Hyperparameter Tuning"
   ]
  },
  {
   "cell_type": "code",
   "execution_count": null,
   "id": "1184182f-32eb-4126-87bc-15e0fd410a3c",
   "metadata": {},
   "outputs": [],
   "source": [
    "from sklearn.model_selection import GridSearchCV\n",
    "param_grid = {\n",
    "    'n_estimators': [100, 200,300,400],\n",
    "    'max_depth': [None, 10, 20, 40],\n",
    "    'min_samples_split': [2, 5, 10],\n",
    "    'min_samples_leaf': [1,2,4]\n",
    "    \n",
    "}\n",
    "grid_search = GridSearchCV(RandomForestClassifier(random_state=42), param_grid, cv=cv, scoring='accuracy')\n",
    "grid_search.fit(X_train, y_train)\n",
    "\n",
    "print(\"Best Parameters (Random Forest):\", grid_search.best_params_)\n",
    "print(\"Best Cross-Validated Accuracy:\", grid_search.best_score_)"
   ]
  },
  {
   "cell_type": "code",
   "execution_count": null,
   "id": "124cc551-3880-46a5-93c5-f62bce45edde",
   "metadata": {},
   "outputs": [],
   "source": [
    "# Evaluate best RF on test set\n",
    "best_rf = grid_search.best_estimator_\n",
    "y_rf_pred = best_rf.predict(X_test)\n",
    "print(\"Test Accuracy (Best RF):\", accuracy_score(y_test, y_rf_pred))\n",
    "print(\"Classification Report (Best RF):\\n\", classification_report(y_test, y_rf_pred))      "
   ]
  },
  {
   "cell_type": "code",
   "execution_count": null,
   "id": "e7bde1c8-5125-49d4-a4a1-7050a1693bc5",
   "metadata": {},
   "outputs": [],
   "source": [
    "from sklearn.metrics import ConfusionMatrixDisplay\n",
    "ConfusionMatrixDisplay.from_estimator(best_rf, X_test, y_test, cmap='Blues')\n",
    "plt.title(\"Confusion Matrix - Best RF Model\")\n",
    "plt.show()"
   ]
  },
  {
   "cell_type": "markdown",
   "id": "9ff376b2-87c1-4b0d-b904-7308394335ad",
   "metadata": {},
   "source": [
    "## 12. Save the Best Model"
   ]
  },
  {
   "cell_type": "code",
   "execution_count": null,
   "id": "7a00825b-4f13-49ef-9097-b9d1da0a2701",
   "metadata": {},
   "outputs": [],
   "source": [
    "import pickle\n",
    "best_model = models[\"Random Forest\"]\n",
    "with open('heart_disease_model.pkl', 'wb') as file:\n",
    "    pickle.dump(best_model, file)\n",
    "# ✅ Save the scaler for use in deployment with pickle\n",
    "# Save the scaler\n",
    "with open('scaler.pkl', 'wb') as scaler_file:\n",
    "    pickle.dump(scaler, scaler_file)\n",
    "\n",
    "# or Joblib\n",
    "# import joblib\n",
    "# best_model = models[\"Gradient Boosting\"]\n",
    "# joblib.dump(best_model, 'heart_disease_model.pkl'\n",
    "# ✅ Save the scaler for use in deployment\n",
    "#joblib.dump(scaler, 'scaler.pkl')\n",
    "          "
   ]
  }
 ],
 "metadata": {
  "kernelspec": {
   "display_name": "Python 3 (ipykernel)",
   "language": "python",
   "name": "python3"
  },
  "language_info": {
   "codemirror_mode": {
    "name": "ipython",
    "version": 3
   },
   "file_extension": ".py",
   "mimetype": "text/x-python",
   "name": "python",
   "nbconvert_exporter": "python",
   "pygments_lexer": "ipython3",
   "version": "3.12.9"
  }
 },
 "nbformat": 4,
 "nbformat_minor": 5
}
